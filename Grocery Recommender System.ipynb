{
 "cells": [
  {
   "attachments": {},
   "cell_type": "markdown",
   "id": "5826520c",
   "metadata": {},
   "source": [
    "# Grocery Recommendation System\n",
    "### We are Group 7"
   ]
  },
  {
   "cell_type": "markdown",
   "id": "f5fe855f",
   "metadata": {},
   "source": [
    "### Import Libraris"
   ]
  },
  {
   "cell_type": "code",
   "execution_count": 1,
   "id": "f662d680",
   "metadata": {},
   "outputs": [],
   "source": [
    "import numpy as np\n",
    "import collections as cl\n",
    "import pandas as pd\n",
    "from apyori import apriori"
   ]
  },
  {
   "cell_type": "markdown",
   "id": "dd427f9e",
   "metadata": {},
   "source": [
    "### Import .csv DataSet in our program.\n"
   ]
  },
  {
   "cell_type": "code",
   "execution_count": 2,
   "id": "b543473a",
   "metadata": {
    "scrolled": false
   },
   "outputs": [
    {
     "data": {
      "text/html": [
       "<div>\n",
       "<style scoped>\n",
       "    .dataframe tbody tr th:only-of-type {\n",
       "        vertical-align: middle;\n",
       "    }\n",
       "\n",
       "    .dataframe tbody tr th {\n",
       "        vertical-align: top;\n",
       "    }\n",
       "\n",
       "    .dataframe thead th {\n",
       "        text-align: right;\n",
       "    }\n",
       "</style>\n",
       "<table border=\"1\" class=\"dataframe\">\n",
       "  <thead>\n",
       "    <tr style=\"text-align: right;\">\n",
       "      <th></th>\n",
       "      <th>TEA</th>\n",
       "      <th>EGGS</th>\n",
       "      <th>MEAT</th>\n",
       "      <th>ICE CREAM</th>\n",
       "    </tr>\n",
       "  </thead>\n",
       "  <tbody>\n",
       "    <tr>\n",
       "      <th>0</th>\n",
       "      <td>COFFEE</td>\n",
       "      <td>TEA</td>\n",
       "      <td>OILS</td>\n",
       "      <td>SUGER</td>\n",
       "    </tr>\n",
       "    <tr>\n",
       "      <th>1</th>\n",
       "      <td>MILK</td>\n",
       "      <td>CHEESE</td>\n",
       "      <td>SUGER</td>\n",
       "      <td>BREAD</td>\n",
       "    </tr>\n",
       "    <tr>\n",
       "      <th>2</th>\n",
       "      <td>SUGER</td>\n",
       "      <td>TEA</td>\n",
       "      <td>EGGS</td>\n",
       "      <td>ICE CREAM</td>\n",
       "    </tr>\n",
       "    <tr>\n",
       "      <th>3</th>\n",
       "      <td>BREAD</td>\n",
       "      <td>CHEESE</td>\n",
       "      <td>TEA</td>\n",
       "      <td>SUGER</td>\n",
       "    </tr>\n",
       "    <tr>\n",
       "      <th>4</th>\n",
       "      <td>MEAT</td>\n",
       "      <td>MILK</td>\n",
       "      <td>OILS</td>\n",
       "      <td>BREAD</td>\n",
       "    </tr>\n",
       "    <tr>\n",
       "      <th>5</th>\n",
       "      <td>CHEESE</td>\n",
       "      <td>COFFEE</td>\n",
       "      <td>TEA</td>\n",
       "      <td>CHEESE</td>\n",
       "    </tr>\n",
       "    <tr>\n",
       "      <th>6</th>\n",
       "      <td>EGGS</td>\n",
       "      <td>SAUCES</td>\n",
       "      <td>MEAT</td>\n",
       "      <td>MILK</td>\n",
       "    </tr>\n",
       "    <tr>\n",
       "      <th>7</th>\n",
       "      <td>OILS</td>\n",
       "      <td>TEA</td>\n",
       "      <td>MEAT</td>\n",
       "      <td>ICE CREAM</td>\n",
       "    </tr>\n",
       "    <tr>\n",
       "      <th>8</th>\n",
       "      <td>OILS</td>\n",
       "      <td>MEAT</td>\n",
       "      <td>ICE CREAM</td>\n",
       "      <td>MILK</td>\n",
       "    </tr>\n",
       "    <tr>\n",
       "      <th>9</th>\n",
       "      <td>TEA</td>\n",
       "      <td>SAUCES</td>\n",
       "      <td>EGGS</td>\n",
       "      <td>MEAT</td>\n",
       "    </tr>\n",
       "    <tr>\n",
       "      <th>10</th>\n",
       "      <td>MEAT</td>\n",
       "      <td>EGGS</td>\n",
       "      <td>COFFEE</td>\n",
       "      <td>ICE CREAM</td>\n",
       "    </tr>\n",
       "    <tr>\n",
       "      <th>11</th>\n",
       "      <td>CHEESE</td>\n",
       "      <td>OILS</td>\n",
       "      <td>SAUCES</td>\n",
       "      <td>SUGER</td>\n",
       "    </tr>\n",
       "    <tr>\n",
       "      <th>12</th>\n",
       "      <td>EGGS</td>\n",
       "      <td>TEA</td>\n",
       "      <td>SUGER</td>\n",
       "      <td>OILS</td>\n",
       "    </tr>\n",
       "    <tr>\n",
       "      <th>13</th>\n",
       "      <td>MEAT</td>\n",
       "      <td>COFFEE</td>\n",
       "      <td>SAUCES</td>\n",
       "      <td>OILS</td>\n",
       "    </tr>\n",
       "    <tr>\n",
       "      <th>14</th>\n",
       "      <td>CHEESE</td>\n",
       "      <td>SAUCES</td>\n",
       "      <td>TEA</td>\n",
       "      <td>EGGS</td>\n",
       "    </tr>\n",
       "    <tr>\n",
       "      <th>15</th>\n",
       "      <td>TEA</td>\n",
       "      <td>OILS</td>\n",
       "      <td>SUGER</td>\n",
       "      <td>COFFEE</td>\n",
       "    </tr>\n",
       "    <tr>\n",
       "      <th>16</th>\n",
       "      <td>COFFEE</td>\n",
       "      <td>MEAT</td>\n",
       "      <td>SAUCES</td>\n",
       "      <td>BREAD</td>\n",
       "    </tr>\n",
       "    <tr>\n",
       "      <th>17</th>\n",
       "      <td>EGGS</td>\n",
       "      <td>SUGER</td>\n",
       "      <td>ICE CREAM</td>\n",
       "      <td>MILK</td>\n",
       "    </tr>\n",
       "    <tr>\n",
       "      <th>18</th>\n",
       "      <td>COFFEE</td>\n",
       "      <td>SAUCES</td>\n",
       "      <td>MILK</td>\n",
       "      <td>BREAD</td>\n",
       "    </tr>\n",
       "  </tbody>\n",
       "</table>\n",
       "</div>"
      ],
      "text/plain": [
       "       TEA    EGGS       MEAT  ICE CREAM\n",
       "0   COFFEE     TEA       OILS      SUGER\n",
       "1     MILK  CHEESE      SUGER      BREAD\n",
       "2    SUGER     TEA       EGGS  ICE CREAM\n",
       "3    BREAD  CHEESE        TEA      SUGER\n",
       "4     MEAT    MILK       OILS      BREAD\n",
       "5   CHEESE  COFFEE        TEA     CHEESE\n",
       "6     EGGS  SAUCES       MEAT       MILK\n",
       "7     OILS     TEA       MEAT  ICE CREAM\n",
       "8     OILS    MEAT  ICE CREAM       MILK\n",
       "9      TEA  SAUCES       EGGS       MEAT\n",
       "10    MEAT    EGGS     COFFEE  ICE CREAM\n",
       "11  CHEESE    OILS     SAUCES      SUGER\n",
       "12    EGGS     TEA      SUGER       OILS\n",
       "13    MEAT  COFFEE     SAUCES       OILS\n",
       "14  CHEESE  SAUCES        TEA       EGGS\n",
       "15     TEA    OILS      SUGER     COFFEE\n",
       "16  COFFEE    MEAT     SAUCES      BREAD\n",
       "17    EGGS   SUGER  ICE CREAM       MILK\n",
       "18  COFFEE  SAUCES       MILK      BREAD"
      ]
     },
     "execution_count": 2,
     "metadata": {},
     "output_type": "execute_result"
    }
   ],
   "source": [
    "store_data = pd.read_csv('D:/user/Desktop/new.csv')  #Importing Dataset from system\n",
    "store_data"
   ]
  },
  {
   "cell_type": "markdown",
   "id": "68fcc444",
   "metadata": {},
   "source": [
    "### Dataset convert into strings and save in a List \n",
    "#### records [ ] .\n"
   ]
  },
  {
   "cell_type": "code",
   "execution_count": 3,
   "id": "795b475c",
   "metadata": {},
   "outputs": [
    {
     "data": {
      "text/plain": [
       "[['COFFEE', 'TEA', 'OILS', 'SUGER'],\n",
       " ['MILK', 'CHEESE', 'SUGER', 'BREAD'],\n",
       " ['SUGER', 'TEA', 'EGGS', 'ICE CREAM'],\n",
       " ['BREAD', 'CHEESE', 'TEA', 'SUGER'],\n",
       " ['MEAT', 'MILK', 'OILS', 'BREAD'],\n",
       " ['CHEESE', 'COFFEE', 'TEA', 'CHEESE'],\n",
       " ['EGGS', 'SAUCES', 'MEAT', 'MILK'],\n",
       " ['OILS', 'TEA', 'MEAT', 'ICE CREAM'],\n",
       " ['OILS', 'MEAT', 'ICE CREAM', 'MILK'],\n",
       " ['TEA', 'SAUCES', 'EGGS', 'MEAT'],\n",
       " ['MEAT', 'EGGS', 'COFFEE', 'ICE CREAM'],\n",
       " ['CHEESE', 'OILS', 'SAUCES', 'SUGER'],\n",
       " ['EGGS', 'TEA', 'SUGER', 'OILS'],\n",
       " ['MEAT', 'COFFEE', 'SAUCES', 'OILS'],\n",
       " ['CHEESE', 'SAUCES', 'TEA', 'EGGS'],\n",
       " ['TEA', 'OILS', 'SUGER', 'COFFEE'],\n",
       " ['COFFEE', 'MEAT', 'SAUCES', 'BREAD'],\n",
       " ['EGGS', 'SUGER', 'ICE CREAM', 'MILK'],\n",
       " ['COFFEE', 'SAUCES', 'MILK', 'BREAD']]"
      ]
     },
     "execution_count": 3,
     "metadata": {},
     "output_type": "execute_result"
    }
   ],
   "source": [
    "records = []\n",
    "for i in range(len(store_data)):\n",
    "     records.append([str(store_data.values[i,j]) for j in range(0,4)])\n",
    "records"
   ]
  },
  {
   "cell_type": "markdown",
   "id": "beec2406",
   "metadata": {},
   "source": [
    "### This is our rules in program.\n",
    "#### min_support=  0.0030\n",
    "#### min_confidence=  0.2\n",
    "#### min_lift=  3\n",
    "#### min_length=  2"
   ]
  },
  {
   "cell_type": "code",
   "execution_count": 4,
   "id": "7975850a",
   "metadata": {},
   "outputs": [],
   "source": [
    "association_rules = apriori(records, min_support=0.0030, min_confidence=0.2, min_lift=3, min_length=2)"
   ]
  },
  {
   "cell_type": "markdown",
   "id": "9142c9f9",
   "metadata": {},
   "source": [
    "### Output of rules save in List \n",
    "#### association_results [ ] .\n"
   ]
  },
  {
   "cell_type": "code",
   "execution_count": 5,
   "id": "60edc28a",
   "metadata": {},
   "outputs": [],
   "source": [
    "association_results = list(association_rules)"
   ]
  },
  {
   "cell_type": "markdown",
   "id": "a20b7062",
   "metadata": {},
   "source": [
    "### Cheak the value of our List .\n",
    "#### association_results [24] ."
   ]
  },
  {
   "cell_type": "code",
   "execution_count": 6,
   "id": "562ed2aa",
   "metadata": {
    "scrolled": false
   },
   "outputs": [
    {
     "name": "stdout",
     "output_type": "stream",
     "text": [
      "24\n"
     ]
    }
   ],
   "source": [
    "print(len(association_results))"
   ]
  },
  {
   "cell_type": "markdown",
   "id": "86d617a2",
   "metadata": {},
   "source": [
    "### Print the First Value Of our List for cleaning and arranging .\n"
   ]
  },
  {
   "cell_type": "code",
   "execution_count": 7,
   "id": "58554b62",
   "metadata": {},
   "outputs": [
    {
     "name": "stdout",
     "output_type": "stream",
     "text": [
      "RelationRecord(items=frozenset({'CHEESE', 'BREAD', 'SUGER'}), support=0.10526315789473684, ordered_statistics=[OrderedStatistic(items_base=frozenset({'CHEESE'}), items_add=frozenset({'BREAD', 'SUGER'}), confidence=0.4, lift=3.8000000000000003), OrderedStatistic(items_base=frozenset({'BREAD', 'SUGER'}), items_add=frozenset({'CHEESE'}), confidence=1.0, lift=3.8000000000000003)])\n"
     ]
    }
   ],
   "source": [
    "print (association_results[1])"
   ]
  },
  {
   "cell_type": "markdown",
   "id": "969dce56",
   "metadata": {},
   "source": [
    "### Clean the Data for Undersanding Using for loop.\n"
   ]
  },
  {
   "cell_type": "code",
   "execution_count": 8,
   "id": "7fdac8f3",
   "metadata": {},
   "outputs": [
    {
     "name": "stdout",
     "output_type": "stream",
     "text": [
      "Rule: MILK -> CHEESE\n",
      "Support: 0.05263157894736842\n",
      "Confidence: 0.2\n",
      "Lift: 3.8000000000000003\n",
      "=====================================\n",
      "Rule: CHEESE -> BREAD\n",
      "Support: 0.10526315789473684\n",
      "Confidence: 0.4\n",
      "Lift: 3.8000000000000003\n",
      "=====================================\n",
      "Rule: CHEESE -> TEA\n",
      "Support: 0.05263157894736842\n",
      "Confidence: 0.2\n",
      "Lift: 3.8000000000000003\n",
      "=====================================\n",
      "Rule: MILK -> COFFEE\n",
      "Support: 0.05263157894736842\n",
      "Confidence: 0.2\n",
      "Lift: 3.8000000000000003\n",
      "=====================================\n",
      "Rule: MILK -> OILS\n",
      "Support: 0.05263157894736842\n",
      "Confidence: 1.0\n",
      "Lift: 3.166666666666667\n",
      "=====================================\n",
      "Rule: SAUCES -> CHEESE\n",
      "Support: 0.05263157894736842\n",
      "Confidence: 0.2\n",
      "Lift: 3.8000000000000003\n",
      "=====================================\n",
      "Rule: EGGS -> COFFEE\n",
      "Support: 0.05263157894736842\n",
      "Confidence: 0.2\n",
      "Lift: 3.8000000000000003\n",
      "=====================================\n",
      "Rule: MILK -> CHEESE\n",
      "Support: 0.05263157894736842\n",
      "Confidence: 0.2\n",
      "Lift: 3.8000000000000003\n",
      "=====================================\n",
      "Rule: CHEESE -> TEA\n",
      "Support: 0.05263157894736842\n",
      "Confidence: 0.2\n",
      "Lift: 3.8000000000000003\n",
      "=====================================\n",
      "Rule: MEAT -> SAUCES\n",
      "Support: 0.05263157894736842\n",
      "Confidence: 0.5\n",
      "Lift: 3.166666666666667\n",
      "=====================================\n",
      "Rule: SAUCES -> MILK\n",
      "Support: 0.05263157894736842\n",
      "Confidence: 0.2\n",
      "Lift: 3.8000000000000003\n",
      "=====================================\n",
      "Rule: MEAT -> MILK\n",
      "Support: 0.05263157894736842\n",
      "Confidence: 0.5\n",
      "Lift: 4.75\n",
      "=====================================\n",
      "Rule: EGGS -> CHEESE\n",
      "Support: 0.05263157894736842\n",
      "Confidence: 1.0\n",
      "Lift: 9.5\n",
      "=====================================\n",
      "Rule: SAUCES -> OILS\n",
      "Support: 0.05263157894736842\n",
      "Confidence: 0.2\n",
      "Lift: 3.8000000000000003\n",
      "=====================================\n",
      "Rule: EGGS -> MEAT\n",
      "Support: 0.05263157894736842\n",
      "Confidence: 0.2\n",
      "Lift: 3.8000000000000003\n",
      "=====================================\n",
      "Rule: MEAT -> SAUCES\n",
      "Support: 0.05263157894736842\n",
      "Confidence: 0.3333333333333333\n",
      "Lift: 3.1666666666666665\n",
      "=====================================\n",
      "Rule: OILS -> COFFEE\n",
      "Support: 0.10526315789473684\n",
      "Confidence: 1.0\n",
      "Lift: 4.75\n",
      "=====================================\n",
      "Rule: EGGS -> ICE CREAM\n",
      "Support: 0.05263157894736842\n",
      "Confidence: 0.2\n",
      "Lift: 3.8000000000000003\n",
      "=====================================\n",
      "Rule: EGGS -> TEA\n",
      "Support: 0.05263157894736842\n",
      "Confidence: 0.3333333333333333\n",
      "Lift: 3.1666666666666665\n",
      "=====================================\n",
      "Rule: EGGS -> SAUCES\n",
      "Support: 0.05263157894736842\n",
      "Confidence: 0.3333333333333333\n",
      "Lift: 3.1666666666666665\n",
      "=====================================\n",
      "Rule: EGGS -> SAUCES\n",
      "Support: 0.05263157894736842\n",
      "Confidence: 0.3333333333333333\n",
      "Lift: 3.1666666666666665\n",
      "=====================================\n",
      "Rule: EGGS -> OILS\n",
      "Support: 0.05263157894736842\n",
      "Confidence: 1.0\n",
      "Lift: 3.8000000000000003\n",
      "=====================================\n",
      "Rule: MEAT -> OILS\n",
      "Support: 0.05263157894736842\n",
      "Confidence: 0.3333333333333333\n",
      "Lift: 3.1666666666666665\n",
      "=====================================\n",
      "Rule: MEAT -> OILS\n",
      "Support: 0.05263157894736842\n",
      "Confidence: 0.2\n",
      "Lift: 3.8000000000000003\n",
      "=====================================\n"
     ]
    }
   ],
   "source": [
    "for item in association_results:\n",
    "\n",
    "    # first index of the inner list\n",
    "    # Contains base item and add item\n",
    "    pair = item[0] \n",
    "    items = [x for x in pair]\n",
    "    print(\"Rule: \" + items[0] + \" -> \" + items[1])\n",
    "\n",
    "    #second index of the inner list\n",
    "    print(\"Support: \" + str(item[1]))\n",
    "\n",
    "    #third index of the list located at 0th\n",
    "    #of the third index of the inner list\n",
    "\n",
    "    print(\"Confidence: \" + str(item[2][0][2]))\n",
    "    print(\"Lift: \" + str(item[2][0][3]))\n",
    "    print(\"=====================================\")"
   ]
  }
 ],
 "metadata": {
  "kernelspec": {
   "display_name": "Python 3 (ipykernel)",
   "language": "python",
   "name": "python3"
  },
  "language_info": {
   "codemirror_mode": {
    "name": "ipython",
    "version": 3
   },
   "file_extension": ".py",
   "mimetype": "text/x-python",
   "name": "python",
   "nbconvert_exporter": "python",
   "pygments_lexer": "ipython3",
   "version": "3.9.7"
  }
 },
 "nbformat": 4,
 "nbformat_minor": 5
}
